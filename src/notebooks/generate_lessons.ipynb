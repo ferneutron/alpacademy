{
 "cells": [
  {
   "cell_type": "code",
   "execution_count": 43,
   "source": [
    "from groq import Groq\n",
    "import yaml\n",
    "import PyPDF2\n",
    "import ast"
   ],
   "outputs": [],
   "metadata": {}
  },
  {
   "cell_type": "code",
   "execution_count": 4,
   "source": [
    "with open('env_variables.yml', 'r') as file:\n",
    "    env_variables = yaml.safe_load(file)"
   ],
   "outputs": [],
   "metadata": {}
  },
  {
   "cell_type": "code",
   "execution_count": 8,
   "source": [
    "def extract_text_from_pdf(pdf_path):\n",
    "    with open(pdf_path, 'rb') as file:\n",
    "        reader = PyPDF2.PdfReader(file)\n",
    "        text = \"\"\n",
    "        for page in reader.pages:\n",
    "            text += page.extract_text()\n",
    "        return text"
   ],
   "outputs": [],
   "metadata": {}
  },
  {
   "cell_type": "code",
   "execution_count": 5,
   "source": [
    "client = Groq(api_key=env_variables['GROQ_API_KEY'])"
   ],
   "outputs": [],
   "metadata": {}
  },
  {
   "cell_type": "code",
   "execution_count": 10,
   "source": [
    "# Extraer el texto del PDF\n",
    "pdf_text = extract_text_from_pdf(\"./data/programas/Historia_sexto_primaria.pdf\")"
   ],
   "outputs": [],
   "metadata": {}
  },
  {
   "cell_type": "code",
   "execution_count": 11,
   "source": [
    "len(pdf_text)"
   ],
   "outputs": [
    {
     "output_type": "execute_result",
     "data": {
      "text/plain": [
       "51537"
      ]
     },
     "metadata": {},
     "execution_count": 11
    }
   ],
   "metadata": {}
  },
  {
   "cell_type": "code",
   "execution_count": 21,
   "source": [
    "\n",
    "\n",
    "# Crear el mensaje para el modelo\n",
    "completion = client.chat.completions.create(\n",
    "    model=\"llama-3.1-70b-versatile\",\n",
    "    messages=[\n",
    "        {\n",
    "            \"role\": \"system\",\n",
    "            \"content\": \"\"\"Eres un sistema que diseña planes pedagógicos experto. El nivel del público objetivo es niños de sexto de primaria en méxico. Tu tarea es diseñar planes de studio conforme a un esquema\n",
    "            de enseñanza homologado por el gobierno de méxico. Diseñarás planes de estudio, tal que la información que te proporcionemos se pueda enseñar en un lapso de 18 semanas, por lo que es importante que\n",
    "            identifiques que temas necesitan mas semanas y que temas son mas simples. Para cada uno devolverás el numero de semana en el cual será impartido y el tema, seguido de puntos principales a tocar en cada día de la semana.\n",
    "            Te compartiremos como contexto un texto que representa todo el programa del ciclo escolar. Desde Propósitos, Enfoque didáctico, organización de los aprendizajes, y tablas de aprendizajes esperados y el contenido que debes utilizar.\n",
    "            Te muestro un ejemplo de salida:\n",
    "            \n",
    "            {\"Semana 1\": {\n",
    "                        \"Contenido\": \"Tema de la semana\",\n",
    "                        \"Aprendizajes clave\": Lista de aprendizajes necesarios. Al menos 5 para cada día de la semana}}\n",
    "\n",
    "            Es muy importante que respetes este formato ya que tu salida debe ser evaluada como un diccionario de python.\n",
    "\n",
    "            \n",
    "            \"\"\"\n",
    "        },\n",
    "        {\n",
    "            \"role\": \"user\",\n",
    "            \"content\": f\"Este es el contenido del PDF del programa para sexto grado de primaria para historia {pdf_text}. Ahora, hazme el plan de estudios en el formato solicitado para 20 semanas sobre la materia **historia**\"\n",
    "        }\n",
    "    ],\n",
    "    temperature=1.2,\n",
    "    max_tokens=8000,\n",
    "    top_p=1,\n",
    "    stream=False,\n",
    "    stop=None,\n",
    ")\n"
   ],
   "outputs": [],
   "metadata": {}
  },
  {
   "cell_type": "code",
   "execution_count": 24,
   "source": [
    "output=completion.choices[0].message.content"
   ],
   "outputs": [],
   "metadata": {}
  },
  {
   "cell_type": "code",
   "execution_count": 41,
   "source": [
    "clean=output[61:-7]"
   ],
   "outputs": [],
   "metadata": {}
  },
  {
   "cell_type": "code",
   "execution_count": 55,
   "source": [
    "text_file = open(\"lessons.txt\", \"w\")\n",
    "\n",
    "text_file.write(clean)\n",
    "\n",
    "text_file.close()"
   ],
   "outputs": [],
   "metadata": {}
  },
  {
   "cell_type": "code",
   "execution_count": null,
   "source": [],
   "outputs": [],
   "metadata": {}
  }
 ],
 "metadata": {
  "orig_nbformat": 4,
  "language_info": {
   "name": "python",
   "version": "3.10.6",
   "mimetype": "text/x-python",
   "codemirror_mode": {
    "name": "ipython",
    "version": 3
   },
   "pygments_lexer": "ipython3",
   "nbconvert_exporter": "python",
   "file_extension": ".py"
  },
  "kernelspec": {
   "name": "python3",
   "display_name": "Python 3.10.6 64-bit ('alpacaenv': venv)"
  },
  "interpreter": {
   "hash": "cc9c29f27cd8e1b9bad28c07c9e233ea212276524e9c56f126a9df88ac3c0cf6"
  }
 },
 "nbformat": 4,
 "nbformat_minor": 2
}