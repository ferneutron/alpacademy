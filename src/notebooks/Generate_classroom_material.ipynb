{
 "cells": [
  {
   "cell_type": "code",
   "execution_count": 58,
   "source": [
    "from groq import Groq\n",
    "import yaml\n",
    "import PyPDF2\n",
    "import ast\n",
    "import json\n",
    "import requests\n",
    "import time\n"
   ],
   "outputs": [],
   "metadata": {}
  },
  {
   "cell_type": "code",
   "execution_count": 2,
   "source": [
    "with open('env_variables.yml', 'r') as file:\n",
    "    env_variables = yaml.safe_load(file)"
   ],
   "outputs": [],
   "metadata": {}
  },
  {
   "cell_type": "code",
   "execution_count": 138,
   "source": [
    "\n",
    "# URL del API\n",
    "url = \"https://us-central1-ferneutron-demos.cloudfunctions.net/alpacademy-retriever\"\n",
    "\n",
    "# Realizar la solicitud GET\n",
    "def get_rag(tema):\n",
    "    output=None\n",
    "    response = requests.post(\"https://us-central1-ferneutron-demos.cloudfunctions.net/alpacademy-retriever\", json={\"query\": tema})\n",
    "    try:\n",
    "        \n",
    "        output= json.loads(response.content)\n",
    "    except:\n",
    "        time.sleep(2)\n",
    "        output= json.loads(response.content)\n",
    "\n",
    "    if output!=None:\n",
    "        \n",
    "        output=\"\\n\".join(i['text'][:3] for i in output['results'])\n",
    "        return output\n",
    "    else:\n",
    "        return None\n",
    "        \n"
   ],
   "outputs": [],
   "metadata": {}
  },
  {
   "cell_type": "code",
   "execution_count": 139,
   "source": [
    "client = Groq(api_key=env_variables['GROQ_API_KEY'])\n"
   ],
   "outputs": [],
   "metadata": {}
  },
  {
   "cell_type": "code",
   "execution_count": 140,
   "source": [
    "with open('lessons.json', 'r') as file:\n",
    "    plan = json.load(file)"
   ],
   "outputs": [],
   "metadata": {}
  },
  {
   "cell_type": "code",
   "execution_count": 156,
   "source": [
    "def call_llama(titulo, retrival):\n",
    "    # Crear el mensaje para el modelo\n",
    "    completion = client.chat.completions.create(\n",
    "        model=\"llama-3.1-70b-versatile\",\n",
    "        messages=[\n",
    "            {\n",
    "                \"role\": \"system\",\n",
    "                \"content\": \"\"\"Eres un profesor para sexto de primaria de méxico. Tu tarea es generar la clase, tal que el alumno lea bullets de información con los cuales aprende el tema que te solicita el usuario, debes tener en cuenta\n",
    "                el contenido del cual hablaremos, que te proporcionaremos mediante un resumen que deberás usar para explicar el tema.\n",
    "\n",
    "                Recuerda que tu usuario es un niño de 12 años que necesita la información clave y concisa.\n",
    "                Para ayudarte te compartiremos un fragmento del libro el cual usarás para extraer la información relevante para dar la clase. El output que generes ya debe estar listo para que un alumno lo lea, por lo que debes esforzarte en ser didáctico.\n",
    "\n",
    "                Entregaras un set de 3 clases. en forma de lista separados el sigueitne caracter [---]\n",
    "                Para cada clase da 6 bullets importantes para aprender del tema\n",
    "                Por ejemplo:\n",
    "\n",
    "                Titulo clase y tu abstracto de informacion para aprender\n",
    "                Estructura clase 2 \n",
    "                Estructura clase 3\n",
    "\n",
    "\n",
    "\n",
    "\n",
    "\n",
    "                No des ningun texto adicional. Regresa la repsuesta OBLIGATORIAMENTE en el formato especificado. No agregues mas texto.\n",
    "\n",
    "                No me expliques que debo aprender. Recuerda que tu respuesta será leida por el alumno, sin ninun tratamiento adicional. sólo indica el texto a enseñar\n",
    "\n",
    "                Cada elemento de la lista debe ser una enseñanza de a lo mas 500 caracteres\n",
    "                \"\"\"\n",
    "            },\n",
    "            {\n",
    "                \"role\": \"user\",\n",
    "                \"content\": f\"\"\"Este es el capítulo a enseñar** {titulo} **\n",
    "                \n",
    "                Este es el contenido del libro que te ayudará a seleccionar lo relevante para la clase:\n",
    "                \n",
    "                \n",
    "                {retrival}.\"\"\"\n",
    "                }\n",
    "        ],\n",
    "        temperature=1.2,\n",
    "        max_tokens=8000,\n",
    "        top_p=1,\n",
    "        stream=False,\n",
    "        stop=None,\n",
    "        )\n",
    "    return completion.choices[0].message.content\n"
   ],
   "outputs": [],
   "metadata": {}
  },
  {
   "cell_type": "code",
   "execution_count": null,
   "source": [],
   "outputs": [],
   "metadata": {}
  },
  {
   "cell_type": "code",
   "execution_count": 162,
   "source": [
    "materiales={}\n",
    "for semana in plan.keys():\n",
    "    titulo=plan[semana]['Contenido']\n",
    "    aprendizajes= plan[semana]['Aprendizajes clave']\n",
    "    to_rag=titulo + ' ' + ' '.join(aprendizajes)\n",
    "    moc=call_llama(titulo, to_rag)\n",
    "\n",
    "    moc=moc.split(\"---\")\n",
    "\n",
    "\n",
    "    moc=[i for i in moc if len(i)>=20]\n",
    "\n",
    "    materiales[semana]={'material':moc,\n",
    "                        'tipo':['clase']*len(moc)}"
   ],
   "outputs": [],
   "metadata": {}
  },
  {
   "cell_type": "code",
   "execution_count": 171,
   "source": [
    "materiales['Semana 1']['material']"
   ],
   "outputs": [
    {
     "output_type": "execute_result",
     "data": {
      "text/plain": [
       "['**La Era de la Prehistoria**\\n\\n* La prehistoria es el período de tiempo que comprende desde la aparición del primer ser humano hasta la invención de la escritura.\\n* Durante la prehistoria, los seres humanos se desarrollaron y se extendieron por todo el mundo, lo que se conoce como el poblamiento de los continentes.\\n* La prehistoria se divide en tres grandes periodos: Paleolítico (hace 2,5 millones de años hasta hace 10.000 años), Mesolítico (hace 10.000 años hasta hace 5.000 años) y Neolítico (hace 5.000 años hasta hace 2.000 años).\\n* Durante la prehistoria, los seres humanos se dedicaron a la caza y la recolección de alimentos, hasta que se desarrolló la agricultura y la ganadería.\\n* La domesticación de plantas y animales permitió a los seres humanos establecerse en un lugar y formar comunidades más grandes.\\n* La prehistoria nos deja un legado en forma de herramientas de piedra, pinturas rupestres y otros objetos que nos ayudan a entender cómo vivían nuestros antepasados.\\n\\n',\n",
       " '\\n\\n**El Origen del Ser Humano**\\n\\n* El ser humano surge en África, hace aproximadamente 2,5 millones de años.\\n* Las primeras formas humanas eran similares a los primates actuales, pero a lo largo del tiempo evolucionaron y se desarrollaron en diferentes especies.\\n* La especie más primitiva es la Australopiteco, que era bípeda y se alimentaba de frutas y verduras.\\n* La especie más avanzada es el Homo sapiens, que es la especie actual del ser humano.\\n* El clima y el entorno geográfico jugaron un papel importante en la evolución del ser humano.\\n* La competencia por los recursos y la adaptación al medio ambiente influyeron en el desarrollo de las habilidades y tecnologías humanas.\\n\\n',\n",
       " '\\n\\n**La Sedentarización y el Origen de las Ciudades**\\n\\n* La sedentarización se refiere al proceso de establecerse en un lugar permanentemente y abandonar la vida nomadica.\\n* La domestición de plantas y animales permitió a los seres humanos producir alimentos de manera más eficiente y establecerse en un lugar.\\n* Las primeras ciudades surgieron en el Neolítico, hace aproximadamente 5.000 años.\\n* Las ciudades se convirtieron en centros de comercio, cultura y gobierno.\\n* La invención de la escritura permitió a los seres humanos registrar eventos, leyes y tradiciones, lo que facilitó la organización social y política.\\n* Las primeras ciudades se caracterizaron por la concentración de población, la especialización laboral y la formación de clases sociales.']"
      ]
     },
     "metadata": {},
     "execution_count": 171
    }
   ],
   "metadata": {}
  },
  {
   "cell_type": "code",
   "execution_count": 178,
   "source": [
    "def call_llama_qa(compendio):\n",
    "    # Crear el mensaje para el modelo\n",
    "    completion = client.chat.completions.create(\n",
    "        model=\"llama-3.1-70b-versatile\",\n",
    "        messages=[\n",
    "            {\n",
    "                \"role\": \"system\",\n",
    "                \"content\": \"\"\"Eres un profesor de sexto de primaria de méxico. Recibirás un texto, y debes generar 3 preguntas con su respuesta para que podamos hacer un examen del tema visto.\n",
    "                No des tu opinion limitate a dar tu respuesta en el siguiente formato\n",
    "\n",
    "                Pregunta1\n",
    "                respuesta 1\n",
    "\n",
    "                pregunta 2\n",
    "                respeusta 2\n",
    "\n",
    "                pregunta 3\n",
    "                respeusta 3\n",
    "                \"\"\"\n",
    "            },\n",
    "            {\n",
    "                \"role\": \"user\",\n",
    "                \"content\": f\"\"\"Este es el material visto en clase: ** {compendio} **\n",
    "                \"\"\"\n",
    "                }\n",
    "        ],\n",
    "        temperature=1.2,\n",
    "        max_tokens=8000,\n",
    "        top_p=1,\n",
    "        stream=False,\n",
    "        stop=None,\n",
    "        )\n",
    "    return completion.choices[0].message.content\n"
   ],
   "outputs": [],
   "metadata": {}
  },
  {
   "cell_type": "code",
   "execution_count": 186,
   "source": [
    "for i in materiales.keys():\n",
    "\n",
    "    questions=call_llama_qa(materiales[i]['material'])\n",
    "\n",
    "    materiales[i]['material'].append(questions)\n",
    "    materiales[i]['tipo'].append(\"preguntas\")\n",
    "    "
   ],
   "outputs": [],
   "metadata": {}
  },
  {
   "cell_type": "code",
   "execution_count": 187,
   "source": [
    "def call_llama_examen(compendio):\n",
    "    # Crear el mensaje para el modelo\n",
    "    completion = client.chat.completions.create(\n",
    "        model=\"llama-3.1-70b-versatile\",\n",
    "        messages=[\n",
    "            {\n",
    "                \"role\": \"system\",\n",
    "                \"content\": \"\"\"Eres un profesor de sexto de primaria de méxico. Recibirás un texto, y debes generar un examen de 10 preguntas respecto a lso temas vistos y a las pregutnas que se les realizaron de reforzamiento.\n",
    "\n",
    "                No des tu opinion limitate a dar tu respuesta en el siguiente formato\n",
    "\n",
    "                Pregunta1\n",
    "                respuesta 1\n",
    "\n",
    "                pregunta 2\n",
    "                respeusta 2\n",
    "\n",
    "                pregunta 3\n",
    "                respeusta 3\n",
    "                \n",
    "                \"\"\"\n",
    "            },\n",
    "            {\n",
    "                \"role\": \"user\",\n",
    "                \"content\": f\"\"\"Este es el material visto en clase: ** {compendio} **\n",
    "                \"\"\"\n",
    "                }\n",
    "        ],\n",
    "        temperature=1.2,\n",
    "        max_tokens=8000,\n",
    "        top_p=1,\n",
    "        stream=False,\n",
    "        stop=None,\n",
    "        )\n",
    "    return completion.choices[0].message.content\n"
   ],
   "outputs": [],
   "metadata": {}
  },
  {
   "cell_type": "code",
   "execution_count": 193,
   "source": [
    "for i in materiales.keys():\n",
    "\n",
    "    questions=call_llama_examen(materiales[i]['material'])\n",
    "\n",
    "    materiales[i]['material'].append(questions)\n",
    "    materiales[i]['tipo'].append(\"examen\")\n"
   ],
   "outputs": [],
   "metadata": {}
  },
  {
   "cell_type": "code",
   "execution_count": 196,
   "source": [
    "with open('../estados_materiales.json', 'w') as fp:\n",
    "    json.dump(materiales, fp)"
   ],
   "outputs": [],
   "metadata": {}
  },
  {
   "cell_type": "code",
   "execution_count": null,
   "source": [],
   "outputs": [],
   "metadata": {}
  }
 ],
 "metadata": {
  "orig_nbformat": 4,
  "language_info": {
   "name": "python",
   "version": "3.10.6",
   "mimetype": "text/x-python",
   "codemirror_mode": {
    "name": "ipython",
    "version": 3
   },
   "pygments_lexer": "ipython3",
   "nbconvert_exporter": "python",
   "file_extension": ".py"
  },
  "kernelspec": {
   "name": "python3",
   "display_name": "Python 3.10.6 64-bit ('alpacaenv': venv)"
  },
  "interpreter": {
   "hash": "cc9c29f27cd8e1b9bad28c07c9e233ea212276524e9c56f126a9df88ac3c0cf6"
  }
 },
 "nbformat": 4,
 "nbformat_minor": 2
}