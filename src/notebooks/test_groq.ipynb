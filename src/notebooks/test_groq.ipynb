{
 "cells": [
  {
   "cell_type": "code",
   "execution_count": 1,
   "source": [
    "from groq import Groq\n",
    "import yaml"
   ],
   "outputs": [],
   "metadata": {
    "collapsed": false,
    "ExecuteTime": {
     "end_time": "2024-10-19T05:27:38.776424Z",
     "start_time": "2024-10-19T05:27:38.759050Z"
    }
   }
  },
  {
   "cell_type": "code",
   "execution_count": 2,
   "source": [
    "with open('env_variables.yml', 'r') as file:\n",
    "    env_variables = yaml.safe_load(file)"
   ],
   "outputs": [],
   "metadata": {
    "collapsed": false,
    "ExecuteTime": {
     "end_time": "2024-10-19T05:27:38.885037Z",
     "start_time": "2024-10-19T05:27:38.877857Z"
    }
   }
  },
  {
   "cell_type": "code",
   "execution_count": 3,
   "source": [
    "client = Groq(api_key=env_variables['GROQ_API_KEY'])"
   ],
   "outputs": [],
   "metadata": {
    "collapsed": false,
    "ExecuteTime": {
     "end_time": "2024-10-19T05:27:39.051877Z",
     "start_time": "2024-10-19T05:27:39.030611Z"
    }
   }
  },
  {
   "cell_type": "code",
   "execution_count": 4,
   "source": [
    "completion = client.chat.completions.create(\n",
    "    model=\"llama-3.1-70b-versatile\",\n",
    "    messages=[\n",
    "        {\n",
    "            \"role\": \"system\",\n",
    "            \"content\": \"Tlazohcamati\"\n",
    "        }\n",
    "    ],\n",
    "    temperature=1,\n",
    "    max_tokens=1024,\n",
    "    top_p=1,\n",
    "    stream=False,\n",
    "    stop=None,\n",
    ")\n"
   ],
   "outputs": [],
   "metadata": {
    "collapsed": true,
    "ExecuteTime": {
     "end_time": "2024-10-19T06:07:25.622858Z",
     "start_time": "2024-10-19T06:07:21.633270Z"
    }
   }
  },
  {
   "cell_type": "code",
   "execution_count": 5,
   "source": [
    "print(completion.choices[0].message.content)"
   ],
   "outputs": [
    {
     "output_type": "stream",
     "name": "stdout",
     "text": [
      "\"Tlazohcamati\" is a Nahuatl phrase, which translates to 'thank you' in the English language. The phrase consists of two Nahuatl words: 'tlazohca' and 'mati.' 'Tlazohca' is used as an expression for gratitude and 'mati' can be translated as 'know' or 'understand.'\n"
     ]
    }
   ],
   "metadata": {
    "collapsed": false,
    "ExecuteTime": {
     "end_time": "2024-10-19T06:07:25.625592Z",
     "start_time": "2024-10-19T06:07:25.623225Z"
    }
   }
  },
  {
   "cell_type": "code",
   "execution_count": 63,
   "source": [],
   "outputs": [],
   "metadata": {
    "collapsed": false,
    "ExecuteTime": {
     "end_time": "2024-10-19T06:07:25.627726Z",
     "start_time": "2024-10-19T06:07:25.626534Z"
    }
   }
  },
  {
   "cell_type": "code",
   "execution_count": null,
   "source": [],
   "outputs": [],
   "metadata": {
    "collapsed": false
   }
  }
 ],
 "metadata": {
  "kernelspec": {
   "name": "python3",
   "display_name": "Python 3.10.6 64-bit ('alpacaenv': venv)"
  },
  "language_info": {
   "name": "python",
   "version": "3.10.6",
   "mimetype": "text/x-python",
   "codemirror_mode": {
    "name": "ipython",
    "version": 3
   },
   "pygments_lexer": "ipython3",
   "nbconvert_exporter": "python",
   "file_extension": ".py"
  },
  "interpreter": {
   "hash": "cc9c29f27cd8e1b9bad28c07c9e233ea212276524e9c56f126a9df88ac3c0cf6"
  }
 },
 "nbformat": 4,
 "nbformat_minor": 2
}