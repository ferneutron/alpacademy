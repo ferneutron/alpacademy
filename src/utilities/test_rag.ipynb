{
 "cells": [
  {
   "cell_type": "code",
   "execution_count": 1,
   "metadata": {
    "collapsed": true,
    "ExecuteTime": {
     "end_time": "2024-10-20T02:23:07.645844Z",
     "start_time": "2024-10-20T02:23:07.598085Z"
    }
   },
   "outputs": [],
   "source": [
    "import requests"
   ]
  },
  {
   "cell_type": "code",
   "execution_count": 2,
   "outputs": [],
   "source": [
    "rag_response = requests.post(\"https://us-central1-ferneutron-demos.cloudfunctions.net/alpacademy-retriever\", json={\"query\": \"mesopotamia\"})"
   ],
   "metadata": {
    "collapsed": false,
    "ExecuteTime": {
     "end_time": "2024-10-20T02:23:58.443995Z",
     "start_time": "2024-10-20T02:23:54.219799Z"
    }
   }
  },
  {
   "cell_type": "code",
   "execution_count": 3,
   "outputs": [
    {
     "name": "stdout",
     "output_type": "stream",
     "text": [
      "{'results': [{'page': '', 'score': 0.710986316204071, 'text': '**V.  Ejemplos de Primeras Ciudades y sus Sistemas de Escritura (o ausencia de ellos):**\\n\\n* **Uruk (Mesopotamia):**  Ejemplo paradigmático de ciudad temprana, Uruk muestra una planificación urbana avanzada, sistemas de riego sofisticados y una administración basada en la escritura cuneiforme.\\n\\n* **Jericó (Palestina):**  Aunque no se ha encontrado evidencia de escritura en Jericó, su organización social compleja y su desarrollo agrícola demuestran que las ciudades podían surgir incluso antes del desarrollo de sistemas de escritura formalizados.\\n\\n* **Mohenjo-daro y Harappa (Valle del Indo):**  Estas ciudades muestran una planificación urbana excepcional y un avanzado conocimiento de la ingeniería.  Su escritura, aún parcialmente descifrada, revela la complejidad de su sociedad.\\n\\n* **Teotihuacan (Mesoamérica):**  Esta gran ciudad mesoamericana, con su impresionante planificación urbana y sus pirámides monumentales, desarrolló un sistema de escritura glifo-silábico que registra información sobre su historia y religión.\\n\\n\\n**VI.  Conclusión: La Escritura como Motor de la Complejidad Social.**\\n\\nLa invención de la escritura representa un hito fundamental en la evolución humana, marcando un cambio cualitativo en la capacidad de las sociedades para organizar, gestionar y transmitir información.  Su estrecha relación con el surgimiento de las primeras ciudades demuestra su papel crucial en el desarrollo de sociedades complejas y organizadas.  El estudio de la escritura y las primeras ciudades nos permite comprender mejor la evolución de la civilización humana y la importancia de la innovación tecnológica en el desarrollo social.  La escritura, lejos de ser un simple instrumento de registro, se convirtió en un motor de la complejidad social, sentando las bases para el desarrollo de las civilizaciones posteriores.'}, {'page': '', 'score': 0.6672008633613586, 'text': '## Bloque I. La Prehistoria: De los Primeros Humanos a las Primeras Sociedades Urbanas\\n\\n**Tema: La invención de la escritura y el surgimiento de las primeras ciudades: Una simbiosis fundamental en la evolución social.**\\n\\n**Introducción:**\\n\\nEl tránsito de sociedades prehistóricas nómadas a complejas estructuras urbanas representa un hito crucial en la historia de la humanidad. Este proceso, intrínsecamente ligado a la invención de la escritura, marca un cambio paradigmático en la organización social, la transmisión del conocimiento y el desarrollo cultural.  Este módulo explorará la compleja interrelación entre estos dos fenómenos, analizando sus antecedentes, desarrollo y consecuencias para la civilización.\\n\\n\\n**I.  Precedentes de la Escritura: Sistemas de Transmisión de Conocimiento en Sociedades Pre-Urbanas.**\\n\\nAntes del desarrollo de sistemas de escritura formalizados, la transmisión de conocimiento se basaba en la memoria colectiva y la tradición oral.  Esta transmisión, fundamentalmente intergeneracional, se apoyaba en la experiencia de los ancianos, considerados depositarios de la sabiduría ancestral.  Las narraciones orales, a menudo acompañadas de rituales y representaciones artísticas, cumplían una función vital en la cohesión social y la preservación de la identidad cultural.  Sin embargo, este método presentaba limitaciones inherentes: la vulnerabilidad a la pérdida de información ante la muerte de los transmisores, la imprecisión en la transmisión de detalles complejos y la incapacidad para registrar grandes volúmenes de datos.  La necesidad de superar estas limitaciones impulsó la búsqueda de métodos de registro más permanentes y precisos.\\n\\n\\n**II.  El Desarrollo de Sistemas Simbólicos: Un Puente hacia la Escritura.**\\n\\nLa evolución hacia la escritura no fue un proceso lineal, sino un desarrollo gradual que implicó la creación de sistemas simbólicos cada vez más complejos.  Estos sistemas, aunque no constituían escritura en sentido estricto, representan etapas cruciales en el desarrollo de la capacidad humana para representar abstracciones:\\n\\n* **Arte Rupestre:** Las pinturas rupestres, presentes en diversas culturas prehistóricas, no se limitaban a la expresión artística.  Su análisis revela la representación de eventos significativos, conocimientos sobre el entorno natural (fauna, flora, ciclos climáticos) y posiblemente, narraciones complejas.  El estudio iconográfico de estas representaciones proporciona valiosa información sobre las creencias, prácticas y organización social de las comunidades prehistóricas.\\n\\n* **Petroglifos:**  Los petroglifos, grabados en piedra, presentan una mayor abstracción que las pinturas rupestres.  Su durabilidad contribuyó a la preservación de información a lo largo del tiempo.  Su interpretación, a menudo compleja, requiere un análisis contextual que considere la ubicación geográfica, la cronología y las características estilísticas.'}, {'page': '', 'score': 0.6631726622581482, 'text': '* **Sistemas de Contabilidad Pre-escriturales:**  La necesidad de gestionar recursos y transacciones comerciales impulsó el desarrollo de sistemas de contabilidad basados en fichas de arcilla, hueso o piedra.  Estos sistemas, aunque no alfabéticos, representan un paso fundamental hacia la abstracción numérica y la representación simbólica de cantidades.  Ejemplos notables se encuentran en la cultura neolítica del Próximo Oriente.\\n\\nEstos sistemas simbólicos, aunque limitados en su capacidad de representación, demuestran la creciente capacidad cognitiva humana para abstraer, simbolizar y registrar información, sentando las bases para el desarrollo de sistemas de escritura más sofisticados.\\n\\n\\n**III.  El Surgimiento de la Escritura: Un Hito en la Evolución Humana.**\\n\\nLa invención de la escritura, alrededor del 3200 a.C. en Mesopotamia, marca un punto de inflexión en la historia de la humanidad.  La escritura cuneiforme sumeria, basada en la impresión de símbolos cuneiformes en tablillas de arcilla húmeda, permitió registrar información de manera sistemática y precisa.  Su evolución desde la representación de objetos concretos hasta la representación de ideas abstractas y fonemas representa un proceso de creciente complejidad y abstracción.  Otros sistemas de escritura, como la escritura jeroglífica egipcia y la escritura china, surgieron de manera independiente, demostrando la capacidad humana para desarrollar soluciones innovadoras a la necesidad de registrar y transmitir información.\\n\\n\\n**IV.  La Escritura y el Desarrollo de las Ciudades: Una Relación Simbiótica.**\\n\\nLa invención de la escritura y el surgimiento de las primeras ciudades están intrínsecamente relacionados.  La escritura proporcionó la infraestructura informativa necesaria para gestionar la complejidad de las sociedades urbanas:\\n\\n* **Administración y Gestión de Recursos:** La escritura permitió el registro sistemático de impuestos, transacciones comerciales, distribución de bienes y obras públicas, facilitando la administración eficiente de las ciudades.\\n\\n* **Legislación y Orden Social:** La codificación de leyes y normas sociales por escrito contribuyó a la estabilidad y la cohesión social, estableciendo un marco jurídico para regular las interacciones entre los ciudadanos.\\n\\n* **Desarrollo Económico:**  La escritura facilitó el comercio a gran escala, permitiendo la creación de contratos, facturas y registros contables que minimizaban el riesgo de disputas y fraudes.\\n\\n* **Educación y Cultura:** La escritura permitió la transmisión de conocimientos y la preservación de la cultura a través de la creación de textos literarios, religiosos y científicos, contribuyendo al desarrollo de instituciones educativas y culturales.\\n\\n* **Avance Científico y Tecnológico:** El registro escrito de observaciones, experimentos y descubrimientos científicos facilitó la acumulación de conocimiento y el avance tecnológico.'}], 'statusCode': 200}\n"
     ]
    }
   ],
   "source": [
    "print(rag_response.json())"
   ],
   "metadata": {
    "collapsed": false,
    "ExecuteTime": {
     "end_time": "2024-10-20T02:24:03.866966Z",
     "start_time": "2024-10-20T02:24:03.864090Z"
    }
   }
  }
 ],
 "metadata": {
  "kernelspec": {
   "display_name": "Python 3",
   "language": "python",
   "name": "python3"
  },
  "language_info": {
   "codemirror_mode": {
    "name": "ipython",
    "version": 2
   },
   "file_extension": ".py",
   "mimetype": "text/x-python",
   "name": "python",
   "nbconvert_exporter": "python",
   "pygments_lexer": "ipython2",
   "version": "2.7.6"
  }
 },
 "nbformat": 4,
 "nbformat_minor": 0
}
