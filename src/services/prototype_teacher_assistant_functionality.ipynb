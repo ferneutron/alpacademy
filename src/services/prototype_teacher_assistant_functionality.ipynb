{
 "cells": [
  {
   "cell_type": "code",
   "execution_count": 1,
   "metadata": {
    "collapsed": true,
    "ExecuteTime": {
     "end_time": "2024-10-20T03:16:16.688856Z",
     "start_time": "2024-10-20T03:16:16.621945Z"
    }
   },
   "outputs": [],
   "source": [
    "from src.utilities.rag_aux import rag_query\n",
    "from src.utilities.get_configs import get_config\n",
    "import json"
   ]
  },
  {
   "cell_type": "code",
   "execution_count": 2,
   "outputs": [],
   "source": [
    "config = get_config()"
   ],
   "metadata": {
    "collapsed": false,
    "ExecuteTime": {
     "end_time": "2024-10-20T03:16:16.777103Z",
     "start_time": "2024-10-20T03:16:16.776090Z"
    }
   }
  },
  {
   "cell_type": "code",
   "execution_count": 3,
   "outputs": [],
   "source": [
    "with open(config[\"MATERIALS_ROUTE\"],'r') as file:\n",
    "    materials = json.load(file)"
   ],
   "metadata": {
    "collapsed": false,
    "ExecuteTime": {
     "end_time": "2024-10-20T03:16:16.912634Z",
     "start_time": "2024-10-20T03:16:16.910414Z"
    }
   }
  },
  {
   "cell_type": "code",
   "execution_count": null,
   "outputs": [],
   "source": [
    "week_1 = materials[\"Semana 1\"]"
   ],
   "metadata": {
    "collapsed": false
   }
  },
  {
   "cell_type": "code",
   "execution_count": null,
   "outputs": [],
   "source": [
    "def proactive_question(material):\n",
    "\n"
   ],
   "metadata": {
    "collapsed": false
   }
  },
  {
   "cell_type": "code",
   "execution_count": 10,
   "outputs": [
    {
     "data": {
      "text/plain": "'**La Era de la Prehistoria**\\n\\n* La prehistoria es el período de tiempo que comprende desde la aparición del primer ser humano hasta la invención de la escritura.\\n* Durante la prehistoria, los seres humanos se desarrollaron y se extendieron por todo el mundo, lo que se conoce como el poblamiento de los continentes.\\n* La prehistoria se divide en tres grandes periodos: Paleolítico (hace 2,5 millones de años hasta hace 10.000 años), Mesolítico (hace 10.000 años hasta hace 5.000 años) y Neolítico (hace 5.000 años hasta hace 2.000 años).\\n* Durante la prehistoria, los seres humanos se dedicaron a la caza y la recolección de alimentos, hasta que se desarrolló la agricultura y la ganadería.\\n* La domesticación de plantas y animales permitió a los seres humanos establecerse en un lugar y formar comunidades más grandes.\\n* La prehistoria nos deja un legado en forma de herramientas de piedra, pinturas rupestres y otros objetos que nos ayudan a entender cómo vivían nuestros antepasados.\\n\\n'"
     },
     "execution_count": 10,
     "metadata": {},
     "output_type": "execute_result"
    }
   ],
   "source": [
    "materials[\"Semana 1\"][\"material\"][0]"
   ],
   "metadata": {
    "collapsed": false,
    "ExecuteTime": {
     "end_time": "2024-10-20T03:18:32.445868Z",
     "start_time": "2024-10-20T03:18:32.444489Z"
    }
   }
  },
  {
   "cell_type": "code",
   "execution_count": 11,
   "outputs": [
    {
     "data": {
      "text/plain": "'\\n\\n**El Origen del Ser Humano**\\n\\n* El ser humano surge en África, hace aproximadamente 2,5 millones de años.\\n* Las primeras formas humanas eran similares a los primates actuales, pero a lo largo del tiempo evolucionaron y se desarrollaron en diferentes especies.\\n* La especie más primitiva es la Australopiteco, que era bípeda y se alimentaba de frutas y verduras.\\n* La especie más avanzada es el Homo sapiens, que es la especie actual del ser humano.\\n* El clima y el entorno geográfico jugaron un papel importante en la evolución del ser humano.\\n* La competencia por los recursos y la adaptación al medio ambiente influyeron en el desarrollo de las habilidades y tecnologías humanas.\\n\\n'"
     },
     "execution_count": 11,
     "metadata": {},
     "output_type": "execute_result"
    }
   ],
   "source": [
    "materials[\"Semana 1\"][\"material\"][1]"
   ],
   "metadata": {
    "collapsed": false,
    "ExecuteTime": {
     "end_time": "2024-10-20T03:18:43.340063Z",
     "start_time": "2024-10-20T03:18:43.335875Z"
    }
   }
  },
  {
   "cell_type": "code",
   "execution_count": 12,
   "outputs": [
    {
     "data": {
      "text/plain": "'\\n\\n**La Sedentarización y el Origen de las Ciudades**\\n\\n* La sedentarización se refiere al proceso de establecerse en un lugar permanentemente y abandonar la vida nomadica.\\n* La domestición de plantas y animales permitió a los seres humanos producir alimentos de manera más eficiente y establecerse en un lugar.\\n* Las primeras ciudades surgieron en el Neolítico, hace aproximadamente 5.000 años.\\n* Las ciudades se convirtieron en centros de comercio, cultura y gobierno.\\n* La invención de la escritura permitió a los seres humanos registrar eventos, leyes y tradiciones, lo que facilitó la organización social y política.\\n* Las primeras ciudades se caracterizaron por la concentración de población, la especialización laboral y la formación de clases sociales.'"
     },
     "execution_count": 12,
     "metadata": {},
     "output_type": "execute_result"
    }
   ],
   "source": [
    "materials[\"Semana 1\"][\"material\"][2]"
   ],
   "metadata": {
    "collapsed": false,
    "ExecuteTime": {
     "end_time": "2024-10-20T03:18:53.348844Z",
     "start_time": "2024-10-20T03:18:53.347338Z"
    }
   }
  },
  {
   "cell_type": "code",
   "execution_count": 15,
   "outputs": [
    {
     "data": {
      "text/plain": "'Pregunta 1\\n¿Cuál es el período de tiempo que comprende la prehistoria?\\n\\nRespuesta: La prehistoria es el período de tiempo que comprende desde la aparición del primer ser humano hasta la invención de la escritura.\\n\\nPregunta 2\\n¿Cómo se llaman los tres grandes periodos en que se divide la prehistoria?\\n\\nRespuesta: La prehistoria se divide en Paleolítico, Mesolítico y Neolítico.\\n\\nPregunta 3\\n¿Por qué la domestización de plantas y animales permitió a los seres humanos establecerse en un lugar y formar comunidades más grandes?\\n\\nRespuesta: La domestización de plantas y animales permitió a los seres humanos producir alimentos de manera más eficiente y establecerse en un lugar de manera permanente.'"
     },
     "execution_count": 15,
     "metadata": {},
     "output_type": "execute_result"
    }
   ],
   "source": [
    "materials[\"Semana 1\"][\"material\"][3]"
   ],
   "metadata": {
    "collapsed": false,
    "ExecuteTime": {
     "end_time": "2024-10-20T03:20:53.837575Z",
     "start_time": "2024-10-20T03:20:53.835319Z"
    }
   }
  },
  {
   "cell_type": "code",
   "execution_count": 16,
   "outputs": [
    {
     "data": {
      "text/plain": "'Pregunta 1\\n¿Dónde surge el ser humano según lo dicho en clase?\\n\\nRespuesta 1\\nEl ser humano surge en África.\\n\\nPregunta 2\\n¿Cuáles son las tres grandes divisiones de la prehistoria?\\n\\nRespuesta 2\\nLa prehistoria se divide en Paleolítico, Mesolítico y Neolítico.\\n\\nPregunta 3\\n¿Qué facilitó a los seres humanos producir alimentos de manera más eficiente y establecerse en un lugar?\\n\\nRespuesta 3\\nLa domestización de plantas y animales.\\n\\nPregunta 4\\n¿Qué período de tiempo comprende la prehistoria?\\n\\nRespuesta 4\\nDesde la aparición del primer ser humano hasta la invención de la escritura.\\n\\nPregunta 5\\n¿Por qué la sedentarización se refiere a establecerse en un lugar permanentemente?\\n\\nRespuesta 5\\nLa sedentarización se refiere a establecerse en un lugar permanentemente y abandonar la vida nomadica.\\n\\nPregunta 6\\n¿Cuál es la especie más primitiva del ser humano?\\n\\nRespuesta 6\\nLa Australopiteco.\\n\\nPregunta 7\\n¿Por qué la invención de la escritura fue importante en la organización social y política?\\n\\nRespuesta 7\\nLa invención de la escritura permitió a los seres humanos registrar eventos, leyes y tradiciones.\\n\\nPregunta 8\\n¿Qué caracterizó a las primeras ciudades?\\n\\nRespuesta 8\\nLa concentración de población, la especialización laboral y la formación de clases sociales.\\n\\nPregunta 9\\n¿En qué época surgieron las primeras ciudades?\\n\\nRespuesta 9\\nHace aproximadamente 5.000 años, en el Neolítico.\\n\\nPregunta 10\\n¿Qué permitió a los seres humanos establecer comunidades más grandes?\\n\\nRespuesta 10\\nLa domesticación de plantas y animales permitió a los seres humanos establecerse en un lugar y formar comunidades más grandes.'"
     },
     "execution_count": 16,
     "metadata": {},
     "output_type": "execute_result"
    }
   ],
   "source": [
    "materials[\"Semana 1\"][\"material\"][4]"
   ],
   "metadata": {
    "collapsed": false,
    "ExecuteTime": {
     "end_time": "2024-10-20T03:21:05.542073Z",
     "start_time": "2024-10-20T03:21:05.539970Z"
    }
   }
  }
 ],
 "metadata": {
  "kernelspec": {
   "display_name": "Python 3",
   "language": "python",
   "name": "python3"
  },
  "language_info": {
   "codemirror_mode": {
    "name": "ipython",
    "version": 2
   },
   "file_extension": ".py",
   "mimetype": "text/x-python",
   "name": "python",
   "nbconvert_exporter": "python",
   "pygments_lexer": "ipython2",
   "version": "2.7.6"
  }
 },
 "nbformat": 4,
 "nbformat_minor": 0
}
