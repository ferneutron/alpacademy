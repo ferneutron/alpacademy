{
 "cells": [
  {
   "cell_type": "code",
   "execution_count": 1,
   "metadata": {
    "collapsed": true,
    "ExecuteTime": {
     "end_time": "2024-10-20T13:20:43.650447Z",
     "start_time": "2024-10-20T13:20:43.594049Z"
    }
   },
   "outputs": [],
   "source": [
    "from src.utilities.rag_aux import rag_query\n",
    "from src.utilities.get_configs import get_config_services\n",
    "import json"
   ]
  },
  {
   "cell_type": "code",
   "execution_count": 2,
   "outputs": [],
   "source": [
    "config = get_config_services()"
   ],
   "metadata": {
    "collapsed": false,
    "ExecuteTime": {
     "end_time": "2024-10-20T13:20:43.751084Z",
     "start_time": "2024-10-20T13:20:43.746224Z"
    }
   }
  },
  {
   "cell_type": "code",
   "execution_count": 3,
   "outputs": [],
   "source": [
    "with open(config[\"MATERIALS_ROUTE\"],'r') as file:\n",
    "    materials = json.load(file)"
   ],
   "metadata": {
    "collapsed": false,
    "ExecuteTime": {
     "end_time": "2024-10-20T13:20:43.936050Z",
     "start_time": "2024-10-20T13:20:43.932092Z"
    }
   }
  },
  {
   "cell_type": "code",
   "execution_count": 4,
   "outputs": [],
   "source": [
    "week_1 = materials[\"Semana 1\"]"
   ],
   "metadata": {
    "collapsed": false,
    "ExecuteTime": {
     "end_time": "2024-10-20T13:20:44.891641Z",
     "start_time": "2024-10-20T13:20:44.889300Z"
    }
   }
  },
  {
   "cell_type": "code",
   "execution_count": 5,
   "outputs": [],
   "source": [
    "material_1 = materials[\"Semana 1\"][\"material\"][0]\n",
    "material_2 = materials[\"Semana 1\"][\"material\"][1]\n",
    "material_3 = materials[\"Semana 1\"][\"material\"][3]"
   ],
   "metadata": {
    "collapsed": false,
    "ExecuteTime": {
     "end_time": "2024-10-20T13:20:45.230650Z",
     "start_time": "2024-10-20T13:20:45.226108Z"
    }
   }
  },
  {
   "cell_type": "code",
   "execution_count": 6,
   "outputs": [
    {
     "name": "stdout",
     "output_type": "stream",
     "text": [
      "**La Era de la Prehistoria**\n",
      "\n",
      "* La prehistoria es el período de tiempo que comprende desde la aparición del primer ser humano hasta la invención de la escritura.\n",
      "* Durante la prehistoria, los seres humanos se desarrollaron y se extendieron por todo el mundo, lo que se conoce como el poblamiento de los continentes.\n",
      "* La prehistoria se divide en tres grandes periodos: Paleolítico (hace 2,5 millones de años hasta hace 10.000 años), Mesolítico (hace 10.000 años hasta hace 5.000 años) y Neolítico (hace 5.000 años hasta hace 2.000 años).\n",
      "* Durante la prehistoria, los seres humanos se dedicaron a la caza y la recolección de alimentos, hasta que se desarrolló la agricultura y la ganadería.\n",
      "* La domesticación de plantas y animales permitió a los seres humanos establecerse en un lugar y formar comunidades más grandes.\n",
      "* La prehistoria nos deja un legado en forma de herramientas de piedra, pinturas rupestres y otros objetos que nos ayudan a entender cómo vivían nuestros antepasados.\n",
      "\n",
      "\n"
     ]
    }
   ],
   "source": [
    "print(material_1)"
   ],
   "metadata": {
    "collapsed": false,
    "ExecuteTime": {
     "end_time": "2024-10-20T13:20:45.586637Z",
     "start_time": "2024-10-20T13:20:45.584100Z"
    }
   }
  },
  {
   "cell_type": "markdown",
   "source": [
    "# ###### Limpio"
   ],
   "metadata": {
    "collapsed": false
   }
  },
  {
   "cell_type": "markdown",
   "source": [
    "# Flujo Proactivo - Respuesta Backend LLM"
   ],
   "metadata": {
    "collapsed": false
   }
  },
  {
   "cell_type": "code",
   "execution_count": 7,
   "outputs": [],
   "source": [
    "import requests"
   ],
   "metadata": {
    "collapsed": false,
    "ExecuteTime": {
     "end_time": "2024-10-20T13:20:46.883388Z",
     "start_time": "2024-10-20T13:20:46.880881Z"
    }
   }
  },
  {
   "cell_type": "code",
   "execution_count": 8,
   "outputs": [
    {
     "name": "stdout",
     "output_type": "stream",
     "text": [
      "**La Era de la Prehistoria**\n",
      "\n",
      "* La prehistoria es el período de tiempo que comprende desde la aparición del primer ser humano hasta la invención de la escritura.\n",
      "* Durante la prehistoria, los seres humanos se desarrollaron y se extendieron por todo el mundo, lo que se conoce como el poblamiento de los continentes.\n",
      "* La prehistoria se divide en tres grandes periodos: Paleolítico (hace 2,5 millones de años hasta hace 10.000 años), Mesolítico (hace 10.000 años hasta hace 5.000 años) y Neolítico (hace 5.000 años hasta hace 2.000 años).\n",
      "* Durante la prehistoria, los seres humanos se dedicaron a la caza y la recolección de alimentos, hasta que se desarrolló la agricultura y la ganadería.\n",
      "* La domesticación de plantas y animales permitió a los seres humanos establecerse en un lugar y formar comunidades más grandes.\n",
      "* La prehistoria nos deja un legado en forma de herramientas de piedra, pinturas rupestres y otros objetos que nos ayudan a entender cómo vivían nuestros antepasados.\n",
      "\n",
      "\n"
     ]
    }
   ],
   "source": [
    "print(material_1)"
   ],
   "metadata": {
    "collapsed": false,
    "ExecuteTime": {
     "end_time": "2024-10-20T13:20:47.078926Z",
     "start_time": "2024-10-20T13:20:47.076693Z"
    }
   }
  },
  {
   "cell_type": "code",
   "execution_count": 9,
   "outputs": [],
   "source": [
    "url = \"http://127.0.0.1:8080/v1/generate_question\"\n",
    "payload = {\n",
    "    \"text\": material_1\n",
    "}\n",
    "headers = {\n",
    "    \"Content-Type\": \"application/json\"\n",
    "}"
   ],
   "metadata": {
    "collapsed": false,
    "ExecuteTime": {
     "end_time": "2024-10-20T13:20:47.296299Z",
     "start_time": "2024-10-20T13:20:47.293909Z"
    }
   }
  },
  {
   "cell_type": "code",
   "execution_count": 10,
   "outputs": [],
   "source": [
    "response = requests.post(url, json=payload, headers=headers)"
   ],
   "metadata": {
    "collapsed": false,
    "ExecuteTime": {
     "end_time": "2024-10-20T13:20:48.127419Z",
     "start_time": "2024-10-20T13:20:47.463553Z"
    }
   }
  },
  {
   "cell_type": "code",
   "execution_count": 11,
   "outputs": [],
   "source": [
    "llama_generated_question = response.json()"
   ],
   "metadata": {
    "collapsed": false,
    "ExecuteTime": {
     "end_time": "2024-10-20T13:20:48.129819Z",
     "start_time": "2024-10-20T13:20:48.128077Z"
    }
   }
  },
  {
   "cell_type": "code",
   "execution_count": 12,
   "outputs": [
    {
     "name": "stdout",
     "output_type": "stream",
     "text": [
      "'¿Cuáles fueron algunas actividades que realizaron los seres humanos durante la prehistoria?'\n"
     ]
    }
   ],
   "source": [
    "print(llama_generated_question)"
   ],
   "metadata": {
    "collapsed": false,
    "ExecuteTime": {
     "end_time": "2024-10-20T13:20:48.694967Z",
     "start_time": "2024-10-20T13:20:48.690700Z"
    }
   }
  },
  {
   "cell_type": "code",
   "execution_count": 13,
   "outputs": [],
   "source": [
    "utterane = \"neolítco\""
   ],
   "metadata": {
    "collapsed": false,
    "ExecuteTime": {
     "end_time": "2024-10-20T13:20:48.868341Z",
     "start_time": "2024-10-20T13:20:48.865755Z"
    }
   }
  },
  {
   "cell_type": "code",
   "execution_count": 14,
   "outputs": [],
   "source": [
    "url = \"http://127.0.0.1:8080/v1/answer_from_generated_question\"\n",
    "payload = {\n",
    "    \"text\": utterane,\n",
    "    \"material\": material_1,\n",
    "    \"llama_generated_question\": llama_generated_question\n",
    "}"
   ],
   "metadata": {
    "collapsed": false,
    "ExecuteTime": {
     "end_time": "2024-10-20T13:20:49.048316Z",
     "start_time": "2024-10-20T13:20:49.043263Z"
    }
   }
  },
  {
   "cell_type": "code",
   "execution_count": 15,
   "outputs": [],
   "source": [
    "response_from_generated_question = requests.post(url, json=payload, headers=headers)"
   ],
   "metadata": {
    "collapsed": false,
    "ExecuteTime": {
     "end_time": "2024-10-20T13:20:50.150853Z",
     "start_time": "2024-10-20T13:20:49.212312Z"
    }
   }
  },
  {
   "cell_type": "code",
   "execution_count": 16,
   "outputs": [
    {
     "name": "stdout",
     "output_type": "stream",
     "text": [
      "\"Me parece que hay un pequeño error. El Neolítico es uno de los periodos de la prehistoria, pero no es una actividad que realizaron los seres humanos. Según lo que sabemos, durante la prehistoria, los seres humanos se dedicaron a la caza y la recolección de alimentos, hasta que se desarrolló la agricultura y la ganadería. Estas actividades les permitieron sobrevivir y eventualmente establecerse en comunidades más grandes. ¿Te gustaría saber más sobre cómo vivían nuestros antepasados durante la prehistoria?\"\n"
     ]
    }
   ],
   "source": [
    "print(response_from_generated_question.json())"
   ],
   "metadata": {
    "collapsed": false,
    "ExecuteTime": {
     "end_time": "2024-10-20T13:20:50.153918Z",
     "start_time": "2024-10-20T13:20:50.151857Z"
    }
   }
  },
  {
   "cell_type": "markdown",
   "source": [
    "# Flujo Pregunta Respuesta sobre el tema"
   ],
   "metadata": {
    "collapsed": false
   }
  },
  {
   "cell_type": "code",
   "execution_count": 17,
   "outputs": [],
   "source": [
    "utterance = \"no entiendo nada de eso de la prehistoria\""
   ],
   "metadata": {
    "collapsed": false,
    "ExecuteTime": {
     "end_time": "2024-10-20T13:20:50.155872Z",
     "start_time": "2024-10-20T13:20:50.154097Z"
    }
   }
  },
  {
   "cell_type": "code",
   "execution_count": 18,
   "outputs": [],
   "source": [
    "url = \"http://127.0.0.1:8080/v1/answer_from_qa\"\n",
    "payload = {\n",
    "    \"text\": utterance,\n",
    "    \"material\": material_1\n",
    "}"
   ],
   "metadata": {
    "collapsed": false,
    "ExecuteTime": {
     "end_time": "2024-10-20T13:20:50.159442Z",
     "start_time": "2024-10-20T13:20:50.156723Z"
    }
   }
  },
  {
   "cell_type": "code",
   "execution_count": 19,
   "outputs": [],
   "source": [
    "response_from_qa = requests.post(url, json=payload, headers=headers)"
   ],
   "metadata": {
    "collapsed": false,
    "ExecuteTime": {
     "end_time": "2024-10-20T13:20:51.672118Z",
     "start_time": "2024-10-20T13:20:50.389091Z"
    }
   }
  },
  {
   "cell_type": "code",
   "execution_count": 20,
   "outputs": [
    {
     "name": "stdout",
     "output_type": "stream",
     "text": [
      "La prehistoria es un período de tiempo muy largo que comenzó cuando aparecieron los primeros seres humanos en la Tierra. Durante ese tiempo, las personas no sabían escribir, por eso se llama \"prehistoria\".\n",
      "\n",
      "Imagina que eres un niño que vive en una tribu hace mucho tiempo. No hay ciudades, no hay escuelas, no hay televisión. La gente se dedicaba a cazar animales y recoger frutas y verduras para comer.\n",
      "\n",
      "Con el tiempo, las personas aprendieron a cultivar la tierra y criar animales, lo que les permitió establecerse en un lugar y formar comunidades más grandes. Es como si tu tribu se convirtiera en un pueblo.\n",
      "\n",
      "La prehistoria es importante porque nos ayuda a entender cómo vivían nuestros antepasados, cómo se desarrollaron y cómo cambiaron con el tiempo. Es como leer un libro sobre la historia de nuestra familia, pero en lugar de leer, miramos las herramientas y objetos que dejaron atrás para entender cómo vivían.\n"
     ]
    }
   ],
   "source": [
    "print(response_from_qa.json())"
   ],
   "metadata": {
    "collapsed": false,
    "ExecuteTime": {
     "end_time": "2024-10-20T13:20:51.674616Z",
     "start_time": "2024-10-20T13:20:51.672919Z"
    }
   }
  }
 ],
 "metadata": {
  "kernelspec": {
   "display_name": "Python 3",
   "language": "python",
   "name": "python3"
  },
  "language_info": {
   "codemirror_mode": {
    "name": "ipython",
    "version": 2
   },
   "file_extension": ".py",
   "mimetype": "text/x-python",
   "name": "python",
   "nbconvert_exporter": "python",
   "pygments_lexer": "ipython2",
   "version": "2.7.6"
  }
 },
 "nbformat": 4,
 "nbformat_minor": 0
}
