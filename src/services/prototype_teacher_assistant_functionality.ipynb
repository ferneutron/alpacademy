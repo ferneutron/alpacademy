{
 "cells": [
  {
   "cell_type": "code",
   "execution_count": 79,
   "metadata": {
    "collapsed": true,
    "ExecuteTime": {
     "end_time": "2024-10-20T13:14:33.512499Z",
     "start_time": "2024-10-20T13:14:33.510720Z"
    }
   },
   "outputs": [],
   "source": [
    "from src.utilities.rag_aux import rag_query\n",
    "from src.utilities.get_configs import get_config\n",
    "import json"
   ]
  },
  {
   "cell_type": "code",
   "execution_count": 80,
   "outputs": [],
   "source": [
    "config = get_config()"
   ],
   "metadata": {
    "collapsed": false,
    "ExecuteTime": {
     "end_time": "2024-10-20T13:14:33.686462Z",
     "start_time": "2024-10-20T13:14:33.681858Z"
    }
   }
  },
  {
   "cell_type": "code",
   "execution_count": 81,
   "outputs": [
    {
     "ename": "FileNotFoundError",
     "evalue": "[Errno 2] No such file or directory: 'src/data/estados_materiales.json'",
     "output_type": "error",
     "traceback": [
      "\u001B[0;31m---------------------------------------------------------------------------\u001B[0m",
      "\u001B[0;31mFileNotFoundError\u001B[0m                         Traceback (most recent call last)",
      "Cell \u001B[0;32mIn[81], line 1\u001B[0m\n\u001B[0;32m----> 1\u001B[0m \u001B[38;5;28;01mwith\u001B[39;00m \u001B[38;5;28;43mopen\u001B[39;49m\u001B[43m(\u001B[49m\u001B[43mconfig\u001B[49m\u001B[43m[\u001B[49m\u001B[38;5;124;43m\"\u001B[39;49m\u001B[38;5;124;43mMATERIALS_ROUTE\u001B[39;49m\u001B[38;5;124;43m\"\u001B[39;49m\u001B[43m]\u001B[49m\u001B[43m,\u001B[49m\u001B[38;5;124;43m'\u001B[39;49m\u001B[38;5;124;43mr\u001B[39;49m\u001B[38;5;124;43m'\u001B[39;49m\u001B[43m)\u001B[49m \u001B[38;5;28;01mas\u001B[39;00m file:\n\u001B[1;32m      2\u001B[0m     materials \u001B[38;5;241m=\u001B[39m json\u001B[38;5;241m.\u001B[39mload(file)\n",
      "File \u001B[0;32m~/Documents/pyenvs/alpacademy/lib/python3.12/site-packages/IPython/core/interactiveshell.py:324\u001B[0m, in \u001B[0;36m_modified_open\u001B[0;34m(file, *args, **kwargs)\u001B[0m\n\u001B[1;32m    317\u001B[0m \u001B[38;5;28;01mif\u001B[39;00m file \u001B[38;5;129;01min\u001B[39;00m {\u001B[38;5;241m0\u001B[39m, \u001B[38;5;241m1\u001B[39m, \u001B[38;5;241m2\u001B[39m}:\n\u001B[1;32m    318\u001B[0m     \u001B[38;5;28;01mraise\u001B[39;00m \u001B[38;5;167;01mValueError\u001B[39;00m(\n\u001B[1;32m    319\u001B[0m         \u001B[38;5;124mf\u001B[39m\u001B[38;5;124m\"\u001B[39m\u001B[38;5;124mIPython won\u001B[39m\u001B[38;5;124m'\u001B[39m\u001B[38;5;124mt let you open fd=\u001B[39m\u001B[38;5;132;01m{\u001B[39;00mfile\u001B[38;5;132;01m}\u001B[39;00m\u001B[38;5;124m by default \u001B[39m\u001B[38;5;124m\"\u001B[39m\n\u001B[1;32m    320\u001B[0m         \u001B[38;5;124m\"\u001B[39m\u001B[38;5;124mas it is likely to crash IPython. If you know what you are doing, \u001B[39m\u001B[38;5;124m\"\u001B[39m\n\u001B[1;32m    321\u001B[0m         \u001B[38;5;124m\"\u001B[39m\u001B[38;5;124myou can use builtins\u001B[39m\u001B[38;5;124m'\u001B[39m\u001B[38;5;124m open.\u001B[39m\u001B[38;5;124m\"\u001B[39m\n\u001B[1;32m    322\u001B[0m     )\n\u001B[0;32m--> 324\u001B[0m \u001B[38;5;28;01mreturn\u001B[39;00m \u001B[43mio_open\u001B[49m\u001B[43m(\u001B[49m\u001B[43mfile\u001B[49m\u001B[43m,\u001B[49m\u001B[43m \u001B[49m\u001B[38;5;241;43m*\u001B[39;49m\u001B[43margs\u001B[49m\u001B[43m,\u001B[49m\u001B[43m \u001B[49m\u001B[38;5;241;43m*\u001B[39;49m\u001B[38;5;241;43m*\u001B[39;49m\u001B[43mkwargs\u001B[49m\u001B[43m)\u001B[49m\n",
      "\u001B[0;31mFileNotFoundError\u001B[0m: [Errno 2] No such file or directory: 'src/data/estados_materiales.json'"
     ]
    }
   ],
   "source": [
    "with open(config[\"MATERIALS_ROUTE\"],'r') as file:\n",
    "    materials = json.load(file)"
   ],
   "metadata": {
    "collapsed": false,
    "ExecuteTime": {
     "end_time": "2024-10-20T13:14:33.838793Z",
     "start_time": "2024-10-20T13:14:33.812681Z"
    }
   }
  },
  {
   "cell_type": "code",
   "execution_count": 82,
   "outputs": [],
   "source": [
    "week_1 = materials[\"Semana 1\"]"
   ],
   "metadata": {
    "collapsed": false,
    "ExecuteTime": {
     "end_time": "2024-10-20T13:14:33.985880Z",
     "start_time": "2024-10-20T13:14:33.984198Z"
    }
   }
  },
  {
   "cell_type": "code",
   "execution_count": 83,
   "outputs": [],
   "source": [
    "material_1 = materials[\"Semana 1\"][\"material\"][0]\n",
    "material_2 = materials[\"Semana 1\"][\"material\"][1]\n",
    "material_3 = materials[\"Semana 1\"][\"material\"][3]"
   ],
   "metadata": {
    "collapsed": false,
    "ExecuteTime": {
     "end_time": "2024-10-20T13:14:34.158545Z",
     "start_time": "2024-10-20T13:14:34.148815Z"
    }
   }
  },
  {
   "cell_type": "code",
   "execution_count": 84,
   "outputs": [
    {
     "name": "stdout",
     "output_type": "stream",
     "text": [
      "**La Era de la Prehistoria**\n",
      "\n",
      "* La prehistoria es el período de tiempo que comprende desde la aparición del primer ser humano hasta la invención de la escritura.\n",
      "* Durante la prehistoria, los seres humanos se desarrollaron y se extendieron por todo el mundo, lo que se conoce como el poblamiento de los continentes.\n",
      "* La prehistoria se divide en tres grandes periodos: Paleolítico (hace 2,5 millones de años hasta hace 10.000 años), Mesolítico (hace 10.000 años hasta hace 5.000 años) y Neolítico (hace 5.000 años hasta hace 2.000 años).\n",
      "* Durante la prehistoria, los seres humanos se dedicaron a la caza y la recolección de alimentos, hasta que se desarrolló la agricultura y la ganadería.\n",
      "* La domesticación de plantas y animales permitió a los seres humanos establecerse en un lugar y formar comunidades más grandes.\n",
      "* La prehistoria nos deja un legado en forma de herramientas de piedra, pinturas rupestres y otros objetos que nos ayudan a entender cómo vivían nuestros antepasados.\n",
      "\n",
      "\n"
     ]
    }
   ],
   "source": [
    "print(material_1)"
   ],
   "metadata": {
    "collapsed": false,
    "ExecuteTime": {
     "end_time": "2024-10-20T13:14:35.497916Z",
     "start_time": "2024-10-20T13:14:35.494416Z"
    }
   }
  },
  {
   "cell_type": "markdown",
   "source": [
    "# ###### Limpio"
   ],
   "metadata": {
    "collapsed": false
   }
  },
  {
   "cell_type": "markdown",
   "source": [
    "# Flujo Proactivo - Respuesta Backend LLM"
   ],
   "metadata": {
    "collapsed": false
   }
  },
  {
   "cell_type": "code",
   "execution_count": 85,
   "outputs": [],
   "source": [
    "import requests"
   ],
   "metadata": {
    "collapsed": false,
    "ExecuteTime": {
     "end_time": "2024-10-20T13:14:37.680392Z",
     "start_time": "2024-10-20T13:14:37.679049Z"
    }
   }
  },
  {
   "cell_type": "code",
   "execution_count": 86,
   "outputs": [
    {
     "name": "stdout",
     "output_type": "stream",
     "text": [
      "**La Era de la Prehistoria**\n",
      "\n",
      "* La prehistoria es el período de tiempo que comprende desde la aparición del primer ser humano hasta la invención de la escritura.\n",
      "* Durante la prehistoria, los seres humanos se desarrollaron y se extendieron por todo el mundo, lo que se conoce como el poblamiento de los continentes.\n",
      "* La prehistoria se divide en tres grandes periodos: Paleolítico (hace 2,5 millones de años hasta hace 10.000 años), Mesolítico (hace 10.000 años hasta hace 5.000 años) y Neolítico (hace 5.000 años hasta hace 2.000 años).\n",
      "* Durante la prehistoria, los seres humanos se dedicaron a la caza y la recolección de alimentos, hasta que se desarrolló la agricultura y la ganadería.\n",
      "* La domesticación de plantas y animales permitió a los seres humanos establecerse en un lugar y formar comunidades más grandes.\n",
      "* La prehistoria nos deja un legado en forma de herramientas de piedra, pinturas rupestres y otros objetos que nos ayudan a entender cómo vivían nuestros antepasados.\n",
      "\n",
      "\n"
     ]
    }
   ],
   "source": [
    "print(material_1)"
   ],
   "metadata": {
    "collapsed": false,
    "ExecuteTime": {
     "end_time": "2024-10-20T13:14:37.950960Z",
     "start_time": "2024-10-20T13:14:37.948861Z"
    }
   }
  },
  {
   "cell_type": "code",
   "execution_count": 87,
   "outputs": [],
   "source": [
    "url = \"http://127.0.0.1:8080/v1/generate_question\"\n",
    "payload = {\n",
    "    \"text\": material_1\n",
    "}\n",
    "headers = {\n",
    "    \"Content-Type\": \"application/json\"\n",
    "}"
   ],
   "metadata": {
    "collapsed": false,
    "ExecuteTime": {
     "end_time": "2024-10-20T13:14:38.113375Z",
     "start_time": "2024-10-20T13:14:38.110557Z"
    }
   }
  },
  {
   "cell_type": "code",
   "execution_count": 88,
   "outputs": [],
   "source": [
    "response = requests.post(url, json=payload, headers=headers)"
   ],
   "metadata": {
    "collapsed": false,
    "ExecuteTime": {
     "end_time": "2024-10-20T13:14:38.891575Z",
     "start_time": "2024-10-20T13:14:38.295208Z"
    }
   }
  },
  {
   "cell_type": "code",
   "execution_count": 89,
   "outputs": [],
   "source": [
    "llama_generated_question = response.json()"
   ],
   "metadata": {
    "collapsed": false,
    "ExecuteTime": {
     "end_time": "2024-10-20T13:14:38.893683Z",
     "start_time": "2024-10-20T13:14:38.892437Z"
    }
   }
  },
  {
   "cell_type": "code",
   "execution_count": 90,
   "outputs": [
    {
     "name": "stdout",
     "output_type": "stream",
     "text": [
      "¿En qué tres grandes periodos se divide la era de la prehistoria?\n"
     ]
    }
   ],
   "source": [
    "print(llama_generated_question)"
   ],
   "metadata": {
    "collapsed": false,
    "ExecuteTime": {
     "end_time": "2024-10-20T13:14:38.896571Z",
     "start_time": "2024-10-20T13:14:38.894347Z"
    }
   }
  },
  {
   "cell_type": "code",
   "execution_count": 91,
   "outputs": [],
   "source": [
    "utterane = \"neolítco\""
   ],
   "metadata": {
    "collapsed": false,
    "ExecuteTime": {
     "end_time": "2024-10-20T13:14:38.897960Z",
     "start_time": "2024-10-20T13:14:38.896902Z"
    }
   }
  },
  {
   "cell_type": "code",
   "execution_count": 92,
   "outputs": [],
   "source": [
    "url = \"http://127.0.0.1:8080/v1/answer_from_generated_question\"\n",
    "payload = {\n",
    "    \"text\": utterane,\n",
    "    \"material\": material_1,\n",
    "    \"llama_generated_question\": llama_generated_question\n",
    "}"
   ],
   "metadata": {
    "collapsed": false,
    "ExecuteTime": {
     "end_time": "2024-10-20T13:14:38.991040Z",
     "start_time": "2024-10-20T13:14:38.989589Z"
    }
   }
  },
  {
   "cell_type": "code",
   "execution_count": 93,
   "outputs": [],
   "source": [
    "response_from_generated_question = requests.post(url, json=payload, headers=headers)"
   ],
   "metadata": {
    "collapsed": false,
    "ExecuteTime": {
     "end_time": "2024-10-20T13:14:40.320729Z",
     "start_time": "2024-10-20T13:14:39.163205Z"
    }
   }
  },
  {
   "cell_type": "code",
   "execution_count": 94,
   "outputs": [
    {
     "name": "stdout",
     "output_type": "stream",
     "text": [
      "Estás cerca, pero no del todo. La respuesta correcta es que la prehistoria se divide en tres grandes periodos: Paleolítico, Mesolítico y Neolítico. El Neolítico es uno de los periodos, pero no es la respuesta completa. Recuerda que cada uno de estos periodos tiene características y fechas específicas que los definen. El Paleolítico es el período más antiguo, que comenzó hace 2,5 millones de años y duró hasta hace 10.000 años. El Mesolítico es el período intermedio, que comenzó hace 10.000 años y duró hasta hace 5.000 años. Y el Neolítico es el período más reciente, que comenzó hace 5.000 años y duró hasta hace 2.000 años.\n"
     ]
    }
   ],
   "source": [
    "print(response_from_generated_question.json())"
   ],
   "metadata": {
    "collapsed": false,
    "ExecuteTime": {
     "end_time": "2024-10-20T13:14:40.324344Z",
     "start_time": "2024-10-20T13:14:40.321804Z"
    }
   }
  },
  {
   "cell_type": "markdown",
   "source": [
    "# Flujo Pregunta Respuesta sobre el tema"
   ],
   "metadata": {
    "collapsed": false
   }
  },
  {
   "cell_type": "code",
   "execution_count": 95,
   "outputs": [],
   "source": [
    "utterance = \"no entiendo nada de eso de la prehistoria\""
   ],
   "metadata": {
    "collapsed": false,
    "ExecuteTime": {
     "end_time": "2024-10-20T13:14:40.325862Z",
     "start_time": "2024-10-20T13:14:40.324504Z"
    }
   }
  },
  {
   "cell_type": "code",
   "execution_count": 96,
   "outputs": [],
   "source": [
    "url = \"http://127.0.0.1:8080/v1/answer_from_qa\"\n",
    "payload = {\n",
    "    \"text\": utterance,\n",
    "    \"material\": material_1\n",
    "}"
   ],
   "metadata": {
    "collapsed": false,
    "ExecuteTime": {
     "end_time": "2024-10-20T13:14:40.329514Z",
     "start_time": "2024-10-20T13:14:40.327958Z"
    }
   }
  },
  {
   "cell_type": "code",
   "execution_count": 97,
   "outputs": [],
   "source": [
    "response_from_qa = requests.post(url, json=payload, headers=headers)"
   ],
   "metadata": {
    "collapsed": false,
    "ExecuteTime": {
     "end_time": "2024-10-20T13:14:41.624543Z",
     "start_time": "2024-10-20T13:14:40.329893Z"
    }
   }
  },
  {
   "cell_type": "code",
   "execution_count": 98,
   "outputs": [
    {
     "name": "stdout",
     "output_type": "stream",
     "text": [
      "La prehistoria es un período de tiempo muy largo que comenzó cuando aparecieron los primeros seres humanos en la Tierra. Durante ese tiempo, las personas no sabían escribir, por eso se llama \"prehistoria\".\n",
      "\n",
      "Imagina que eres un niño que vive en una tribu hace mucho tiempo. No hay ciudades, no hay escuelas, no hay televisión. La gente se dedicaba a cazar animales y recoger frutas y verduras para comer.\n",
      "\n",
      "Con el tiempo, la gente aprendió a cultivar la tierra y criar animales, lo que les permitió vivir en un lugar fijo y formar comunidades más grandes. Es como si tu familia se mudara a una casa y empezara a cultivar un jardín para tener comida.\n",
      "\n",
      "La prehistoria es importante porque nos ayuda a entender cómo vivían nuestros antepasados y cómo se desarrolló la humanidad. Es como leer un libro sobre la historia de nuestra familia, pero en lugar de leer, nos ayudan objetos como herramientas de piedra y pinturas en las rocas.\n"
     ]
    }
   ],
   "source": [
    "print(response_from_qa.json())"
   ],
   "metadata": {
    "collapsed": false,
    "ExecuteTime": {
     "end_time": "2024-10-20T13:14:41.627626Z",
     "start_time": "2024-10-20T13:14:41.625883Z"
    }
   }
  }
 ],
 "metadata": {
  "kernelspec": {
   "display_name": "Python 3",
   "language": "python",
   "name": "python3"
  },
  "language_info": {
   "codemirror_mode": {
    "name": "ipython",
    "version": 2
   },
   "file_extension": ".py",
   "mimetype": "text/x-python",
   "name": "python",
   "nbconvert_exporter": "python",
   "pygments_lexer": "ipython2",
   "version": "2.7.6"
  }
 },
 "nbformat": 4,
 "nbformat_minor": 0
}
