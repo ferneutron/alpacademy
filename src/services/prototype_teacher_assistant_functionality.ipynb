{
 "cells": [
  {
   "cell_type": "code",
   "execution_count": 1,
   "metadata": {
    "collapsed": true,
    "ExecuteTime": {
     "end_time": "2024-10-20T03:16:16.688856Z",
     "start_time": "2024-10-20T03:16:16.621945Z"
    }
   },
   "outputs": [],
   "source": [
    "from src.utilities.rag_aux import rag_query\n",
    "from src.utilities.get_configs import get_config\n",
    "import json"
   ]
  },
  {
   "cell_type": "code",
   "execution_count": 2,
   "outputs": [],
   "source": [
    "config = get_config()"
   ],
   "metadata": {
    "collapsed": false,
    "ExecuteTime": {
     "end_time": "2024-10-20T03:16:16.777103Z",
     "start_time": "2024-10-20T03:16:16.776090Z"
    }
   }
  },
  {
   "cell_type": "code",
   "execution_count": 3,
   "outputs": [],
   "source": [
    "with open(config[\"MATERIALS_ROUTE\"],'r') as file:\n",
    "    materials = json.load(file)"
   ],
   "metadata": {
    "collapsed": false,
    "ExecuteTime": {
     "end_time": "2024-10-20T03:16:16.912634Z",
     "start_time": "2024-10-20T03:16:16.910414Z"
    }
   }
  },
  {
   "cell_type": "code",
   "execution_count": null,
   "outputs": [],
   "source": [
    "week_1 = materials[\"Semana 1\"]"
   ],
   "metadata": {
    "collapsed": false
   }
  },
  {
   "cell_type": "code",
   "execution_count": 18,
   "outputs": [
    {
     "name": "stdout",
     "output_type": "stream",
     "text": [
      "{'results': [{'page': '', 'score': 0.8900219202041626, 'text': '## Bloque I. La Prehistoria: De los Primeros Humanos a las Primeras Sociedades Urbanas\\n\\n**Tema: El Descubrimiento de Lucy y su Importancia para Comprender la Evolución Humana**\\n\\nEl estudio de la prehistoria, un extenso periodo que abarca desde la emergencia de los primeros homínidos hasta el desarrollo de las primeras sociedades urbanas, se basa en la interpretación de evidencias fragmentarias.  La reconstrucción de este complejo proceso evolutivo depende crucialmente de hallazgos paleontológicos significativos, entre los cuales el descubrimiento de Lucy destaca como un hito fundamental.  Este bloque explorará el contexto del descubrimiento, las características de *Australopithecus afarensis* y las implicaciones de este hallazgo para nuestra comprensión de la evolución humana.\\n\\n**La Cronología Prehistórica y el Contexto del Paleolítico Inferior:**\\n\\nLa prehistoria se divide en etapas definidas por avances tecnológicos y sociales. El Paleolítico (Edad de Piedra Antigua), subdividido en Inferior, Medio y Superior, precede al Neolítico (Edad de Piedra Nueva), marcado por la revolución neolítica: la adopción de la agricultura y la consecuente sedentarización.  El descubrimiento de Lucy se inscribe dentro del Paleolítico Inferior, un periodo crucial caracterizado por la aparición de los primeros homínidos bípedos y el desarrollo inicial de la tecnología lítica, aunque rudimentaria.  Este periodo abarca millones de años, y su estudio requiere un análisis meticuloso de la estratigrafía y la datación radiométrica de los hallazgos fósiles.\\n\\n**Los Homínidos: Definición y Características Distintivas:**\\n\\nLos homínidos constituyen una familia de primates que incluye al *Homo sapiens* y sus ancestros extintos.  Se distinguen de otros primates por un conjunto de rasgos anatómicos y conductuales, entre los que destacan: el bipedismo (locomoción sobre dos extremidades inferiores), un mayor tamaño craneal en relación a la masa corporal, y la capacidad para la fabricación y el uso de herramientas.  La evolución homínida no es lineal, sino un proceso complejo y ramificado, con múltiples especies coexistiendo y dando lugar a una rica diversidad morfológica y conductual a lo largo de millones de años.\\n\\n**El Descubrimiento de Lucy en Hadar, Etiopía:**'}, {'page': '', 'score': 0.80552738904953, 'text': 'El descubrimiento de Lucy revolucionó la comprensión de la evolución humana, demostrando que el bipedismo surgió mucho antes de lo que se creía.  Lucy no representa el \"eslabón perdido\", sino un importante eslabón en la compleja cadena evolutiva.  Su estudio, junto con el análisis de otros hallazgos paleontológicos, continúa proporcionando información crucial para comprender la evolución homínida, destacando la importancia de la paleontología como herramienta fundamental para reconstruir la historia de la vida en la Tierra.  La investigación científica, con su rigor metodológico y su búsqueda constante de conocimiento, es esencial para desentrañar los misterios de nuestro pasado y para comprender nuestro lugar en el mundo.'}, {'page': '', 'score': 0.7834005355834961, 'text': 'El descubrimiento de Lucy en 1974, en la región de Hadar, Etiopía, no fue fortuito.  La región de Afar, en Etiopía, se caracteriza por su excepcional riqueza paleontológica, con capas sedimentarias que han preservado restos fósiles de millones de años.  El equipo liderado por Donald Johanson y Maurice Taieb, empleando técnicas de estratigrafía y datación, desenterró aproximadamente el 40% del esqueleto de un homínido, un porcentaje excepcionalmente alto para un fósil de esa antigüedad.  Este hallazgo, bautizado como \"Lucy\" en referencia a una canción de los Beatles, representó un avance significativo en el conocimiento de la evolución humana.\\n\\n**Lucy: *Australopithecus afarensis* y sus Implicaciones Evolutivas:**\\n\\nLucy pertenece a la especie *Australopithecus afarensis*, un homínido que habitó la región de Afar hace aproximadamente 3,2 millones de años.  Su importancia radica en las implicaciones de sus características anatómicas:\\n\\n* **Bipedismo confirmado:** El análisis de la pelvis y los huesos de las extremidades inferiores de Lucy proporciona evidencia concluyente de su locomoción bípeda.  Si bien su marcha bípeda era probablemente menos eficiente que la del *Homo sapiens*, representa un paso crucial en la transición del cuadrupedismo al bipedismo, liberando las manos para la manipulación de objetos y el desarrollo de herramientas.\\n\\n* **Encefalización relativa:**  Si bien el tamaño del cerebro de Lucy era menor que el del *Homo sapiens*, era significativamente mayor que el de los chimpancés, indicando una progresión en el desarrollo encefálico a lo largo de la evolución homínida.\\n\\n* **Características dentales intermedias:**  La dentición de Lucy presenta una mezcla de rasgos primitivos (similares a los de los simios) y derivados (más parecidos a los de los humanos), lo que la sitúa como una especie de transición en la evolución homínida.\\n\\n* **Dimorfismo sexual:**  El estudio de múltiples restos de *Australopithecus afarensis* sugiere un dimorfismo sexual, con machos de mayor tamaño y robustez que las hembras.\\n\\n**Impacto del Descubrimiento y Conclusiones:**'}], 'statusCode': 200}\n"
     ]
    }
   ],
   "source": [
    "rag_query(context=materials[\"Semana 1\"][\"material\"][0],config=config)"
   ],
   "metadata": {
    "collapsed": false,
    "ExecuteTime": {
     "end_time": "2024-10-20T05:21:32.674004Z",
     "start_time": "2024-10-20T05:21:28.530971Z"
    }
   }
  },
  {
   "cell_type": "code",
   "execution_count": 11,
   "outputs": [
    {
     "data": {
      "text/plain": "'\\n\\n**El Origen del Ser Humano**\\n\\n* El ser humano surge en África, hace aproximadamente 2,5 millones de años.\\n* Las primeras formas humanas eran similares a los primates actuales, pero a lo largo del tiempo evolucionaron y se desarrollaron en diferentes especies.\\n* La especie más primitiva es la Australopiteco, que era bípeda y se alimentaba de frutas y verduras.\\n* La especie más avanzada es el Homo sapiens, que es la especie actual del ser humano.\\n* El clima y el entorno geográfico jugaron un papel importante en la evolución del ser humano.\\n* La competencia por los recursos y la adaptación al medio ambiente influyeron en el desarrollo de las habilidades y tecnologías humanas.\\n\\n'"
     },
     "execution_count": 11,
     "metadata": {},
     "output_type": "execute_result"
    }
   ],
   "source": [
    "materials[\"Semana 1\"][\"material\"][1]"
   ],
   "metadata": {
    "collapsed": false,
    "ExecuteTime": {
     "end_time": "2024-10-20T03:18:43.340063Z",
     "start_time": "2024-10-20T03:18:43.335875Z"
    }
   }
  },
  {
   "cell_type": "code",
   "execution_count": 19,
   "outputs": [],
   "source": [
    "test_values = {'results': [{'page': '', 'score': 0.8900219202041626, 'text': 'hola'}, {'page': '', 'score': 0.80552738904953, 'text': 'hola_otra_vez'}, {'page': '', 'score': 0.7834005355834961, 'text': 'adios'}], 'statusCode': 200}\n"
   ],
   "metadata": {
    "collapsed": false,
    "ExecuteTime": {
     "end_time": "2024-10-20T05:23:30.351640Z",
     "start_time": "2024-10-20T05:23:30.350478Z"
    }
   }
  },
  {
   "cell_type": "code",
   "execution_count": 20,
   "outputs": [
    {
     "data": {
      "text/plain": "{'results': [{'page': '', 'score': 0.8900219202041626, 'text': 'hola'},\n  {'page': '', 'score': 0.80552738904953, 'text': 'hola_otra_vez'},\n  {'page': '', 'score': 0.7834005355834961, 'text': 'adios'}],\n 'statusCode': 200}"
     },
     "execution_count": 20,
     "metadata": {},
     "output_type": "execute_result"
    }
   ],
   "source": [
    "test_values"
   ],
   "metadata": {
    "collapsed": false,
    "ExecuteTime": {
     "end_time": "2024-10-20T05:23:36.160093Z",
     "start_time": "2024-10-20T05:23:36.158343Z"
    }
   }
  },
  {
   "cell_type": "code",
   "execution_count": 16,
   "outputs": [
    {
     "data": {
      "text/plain": "'Pregunta 1\\n¿Dónde surge el ser humano según lo dicho en clase?\\n\\nRespuesta 1\\nEl ser humano surge en África.\\n\\nPregunta 2\\n¿Cuáles son las tres grandes divisiones de la prehistoria?\\n\\nRespuesta 2\\nLa prehistoria se divide en Paleolítico, Mesolítico y Neolítico.\\n\\nPregunta 3\\n¿Qué facilitó a los seres humanos producir alimentos de manera más eficiente y establecerse en un lugar?\\n\\nRespuesta 3\\nLa domestización de plantas y animales.\\n\\nPregunta 4\\n¿Qué período de tiempo comprende la prehistoria?\\n\\nRespuesta 4\\nDesde la aparición del primer ser humano hasta la invención de la escritura.\\n\\nPregunta 5\\n¿Por qué la sedentarización se refiere a establecerse en un lugar permanentemente?\\n\\nRespuesta 5\\nLa sedentarización se refiere a establecerse en un lugar permanentemente y abandonar la vida nomadica.\\n\\nPregunta 6\\n¿Cuál es la especie más primitiva del ser humano?\\n\\nRespuesta 6\\nLa Australopiteco.\\n\\nPregunta 7\\n¿Por qué la invención de la escritura fue importante en la organización social y política?\\n\\nRespuesta 7\\nLa invención de la escritura permitió a los seres humanos registrar eventos, leyes y tradiciones.\\n\\nPregunta 8\\n¿Qué caracterizó a las primeras ciudades?\\n\\nRespuesta 8\\nLa concentración de población, la especialización laboral y la formación de clases sociales.\\n\\nPregunta 9\\n¿En qué época surgieron las primeras ciudades?\\n\\nRespuesta 9\\nHace aproximadamente 5.000 años, en el Neolítico.\\n\\nPregunta 10\\n¿Qué permitió a los seres humanos establecer comunidades más grandes?\\n\\nRespuesta 10\\nLa domesticación de plantas y animales permitió a los seres humanos establecerse en un lugar y formar comunidades más grandes.'"
     },
     "execution_count": 16,
     "metadata": {},
     "output_type": "execute_result"
    }
   ],
   "source": [
    "materials[\"Semana 1\"][\"material\"][4]"
   ],
   "metadata": {
    "collapsed": false,
    "ExecuteTime": {
     "end_time": "2024-10-20T03:21:05.542073Z",
     "start_time": "2024-10-20T03:21:05.539970Z"
    }
   }
  },
  {
   "cell_type": "code",
   "execution_count": 17,
   "outputs": [
    {
     "data": {
      "text/plain": "{'material': ['**La Era de la Prehistoria**\\n\\n* La prehistoria es el período de tiempo que comprende desde la aparición del primer ser humano hasta la invención de la escritura.\\n* Durante la prehistoria, los seres humanos se desarrollaron y se extendieron por todo el mundo, lo que se conoce como el poblamiento de los continentes.\\n* La prehistoria se divide en tres grandes periodos: Paleolítico (hace 2,5 millones de años hasta hace 10.000 años), Mesolítico (hace 10.000 años hasta hace 5.000 años) y Neolítico (hace 5.000 años hasta hace 2.000 años).\\n* Durante la prehistoria, los seres humanos se dedicaron a la caza y la recolección de alimentos, hasta que se desarrolló la agricultura y la ganadería.\\n* La domesticación de plantas y animales permitió a los seres humanos establecerse en un lugar y formar comunidades más grandes.\\n* La prehistoria nos deja un legado en forma de herramientas de piedra, pinturas rupestres y otros objetos que nos ayudan a entender cómo vivían nuestros antepasados.\\n\\n',\n  '\\n\\n**El Origen del Ser Humano**\\n\\n* El ser humano surge en África, hace aproximadamente 2,5 millones de años.\\n* Las primeras formas humanas eran similares a los primates actuales, pero a lo largo del tiempo evolucionaron y se desarrollaron en diferentes especies.\\n* La especie más primitiva es la Australopiteco, que era bípeda y se alimentaba de frutas y verduras.\\n* La especie más avanzada es el Homo sapiens, que es la especie actual del ser humano.\\n* El clima y el entorno geográfico jugaron un papel importante en la evolución del ser humano.\\n* La competencia por los recursos y la adaptación al medio ambiente influyeron en el desarrollo de las habilidades y tecnologías humanas.\\n\\n',\n  '\\n\\n**La Sedentarización y el Origen de las Ciudades**\\n\\n* La sedentarización se refiere al proceso de establecerse en un lugar permanentemente y abandonar la vida nomadica.\\n* La domestición de plantas y animales permitió a los seres humanos producir alimentos de manera más eficiente y establecerse en un lugar.\\n* Las primeras ciudades surgieron en el Neolítico, hace aproximadamente 5.000 años.\\n* Las ciudades se convirtieron en centros de comercio, cultura y gobierno.\\n* La invención de la escritura permitió a los seres humanos registrar eventos, leyes y tradiciones, lo que facilitó la organización social y política.\\n* Las primeras ciudades se caracterizaron por la concentración de población, la especialización laboral y la formación de clases sociales.',\n  'Pregunta 1\\n¿Cuál es el período de tiempo que comprende la prehistoria?\\n\\nRespuesta: La prehistoria es el período de tiempo que comprende desde la aparición del primer ser humano hasta la invención de la escritura.\\n\\nPregunta 2\\n¿Cómo se llaman los tres grandes periodos en que se divide la prehistoria?\\n\\nRespuesta: La prehistoria se divide en Paleolítico, Mesolítico y Neolítico.\\n\\nPregunta 3\\n¿Por qué la domestización de plantas y animales permitió a los seres humanos establecerse en un lugar y formar comunidades más grandes?\\n\\nRespuesta: La domestización de plantas y animales permitió a los seres humanos producir alimentos de manera más eficiente y establecerse en un lugar de manera permanente.',\n  'Pregunta 1\\n¿Dónde surge el ser humano según lo dicho en clase?\\n\\nRespuesta 1\\nEl ser humano surge en África.\\n\\nPregunta 2\\n¿Cuáles son las tres grandes divisiones de la prehistoria?\\n\\nRespuesta 2\\nLa prehistoria se divide en Paleolítico, Mesolítico y Neolítico.\\n\\nPregunta 3\\n¿Qué facilitó a los seres humanos producir alimentos de manera más eficiente y establecerse en un lugar?\\n\\nRespuesta 3\\nLa domestización de plantas y animales.\\n\\nPregunta 4\\n¿Qué período de tiempo comprende la prehistoria?\\n\\nRespuesta 4\\nDesde la aparición del primer ser humano hasta la invención de la escritura.\\n\\nPregunta 5\\n¿Por qué la sedentarización se refiere a establecerse en un lugar permanentemente?\\n\\nRespuesta 5\\nLa sedentarización se refiere a establecerse en un lugar permanentemente y abandonar la vida nomadica.\\n\\nPregunta 6\\n¿Cuál es la especie más primitiva del ser humano?\\n\\nRespuesta 6\\nLa Australopiteco.\\n\\nPregunta 7\\n¿Por qué la invención de la escritura fue importante en la organización social y política?\\n\\nRespuesta 7\\nLa invención de la escritura permitió a los seres humanos registrar eventos, leyes y tradiciones.\\n\\nPregunta 8\\n¿Qué caracterizó a las primeras ciudades?\\n\\nRespuesta 8\\nLa concentración de población, la especialización laboral y la formación de clases sociales.\\n\\nPregunta 9\\n¿En qué época surgieron las primeras ciudades?\\n\\nRespuesta 9\\nHace aproximadamente 5.000 años, en el Neolítico.\\n\\nPregunta 10\\n¿Qué permitió a los seres humanos establecer comunidades más grandes?\\n\\nRespuesta 10\\nLa domesticación de plantas y animales permitió a los seres humanos establecerse en un lugar y formar comunidades más grandes.'],\n 'tipo': ['clase', 'clase', 'clase', 'preguntas', 'examen']}"
     },
     "execution_count": 17,
     "metadata": {},
     "output_type": "execute_result"
    }
   ],
   "source": [
    "materials[\"Semana 1\"][\"tipo\"]"
   ],
   "metadata": {
    "collapsed": false,
    "ExecuteTime": {
     "end_time": "2024-10-20T04:28:35.184934Z",
     "start_time": "2024-10-20T04:28:35.183302Z"
    }
   }
  }
 ],
 "metadata": {
  "kernelspec": {
   "display_name": "Python 3",
   "language": "python",
   "name": "python3"
  },
  "language_info": {
   "codemirror_mode": {
    "name": "ipython",
    "version": 2
   },
   "file_extension": ".py",
   "mimetype": "text/x-python",
   "name": "python",
   "nbconvert_exporter": "python",
   "pygments_lexer": "ipython2",
   "version": "2.7.6"
  }
 },
 "nbformat": 4,
 "nbformat_minor": 0
}
