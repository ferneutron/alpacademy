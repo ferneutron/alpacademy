{
 "cells": [
  {
   "cell_type": "code",
   "execution_count": 99,
   "metadata": {
    "collapsed": true,
    "ExecuteTime": {
     "end_time": "2024-10-20T11:56:53.143907Z",
     "start_time": "2024-10-20T11:56:53.141327Z"
    }
   },
   "outputs": [],
   "source": [
    "import requests"
   ]
  },
  {
   "cell_type": "code",
   "execution_count": 100,
   "outputs": [],
   "source": [
    "url = \"http://127.0.0.1:8080/v1/predict\"\n",
    "payload = {\n",
    "    \"text\": \"qué es neolítico\"\n",
    "}\n",
    "headers = {\n",
    "    \"Content-Type\": \"application/json\"\n",
    "}"
   ],
   "metadata": {
    "collapsed": false,
    "ExecuteTime": {
     "end_time": "2024-10-20T11:56:53.257998Z",
     "start_time": "2024-10-20T11:56:53.256621Z"
    }
   }
  },
  {
   "cell_type": "code",
   "execution_count": 101,
   "outputs": [],
   "source": [
    "response = requests.post(url, json=payload, headers=headers)"
   ],
   "metadata": {
    "collapsed": false,
    "ExecuteTime": {
     "end_time": "2024-10-20T11:56:54.738357Z",
     "start_time": "2024-10-20T11:56:53.428270Z"
    }
   }
  },
  {
   "cell_type": "markdown",
   "source": [],
   "metadata": {
    "collapsed": false
   }
  },
  {
   "cell_type": "code",
   "execution_count": 102,
   "outputs": [
    {
     "name": "stdout",
     "output_type": "stream",
     "text": [
      "200\n",
      "El Neolítico es un período de la prehistoria que comenzó hace aproximadamente 5.000 años y terminó hace 2.000 años. Durante este tiempo, los seres humanos comenzaron a desarrollar la agricultura y la ganadería, lo que les permitió establecerse en un lugar y formar comunidades más grandes. También se caracteriza por la creación de herramientas más avanzadas y la domesticación de plantas y animales.\n"
     ]
    }
   ],
   "source": [
    "print(response.status_code)\n",
    "print(response.json())"
   ],
   "metadata": {
    "collapsed": false,
    "ExecuteTime": {
     "end_time": "2024-10-20T11:56:54.742318Z",
     "start_time": "2024-10-20T11:56:54.740632Z"
    }
   }
  },
  {
   "cell_type": "code",
   "execution_count": 87,
   "outputs": [],
   "source": [
    "url = \"http://127.0.0.1:8080/v1/predict\"\n",
    "payload = {\n",
    "    \"text\": \"qué es neolítico\",\n",
    "    \"material\":\n",
    "}\n",
    "headers = {\n",
    "    \"Content-Type\": \"application/json\"\n",
    "}"
   ],
   "metadata": {
    "collapsed": false,
    "ExecuteTime": {
     "end_time": "2024-10-20T11:46:54.665431Z",
     "start_time": "2024-10-20T11:46:54.663860Z"
    }
   }
  },
  {
   "cell_type": "code",
   "execution_count": null,
   "outputs": [],
   "source": [],
   "metadata": {
    "collapsed": false
   }
  }
 ],
 "metadata": {
  "kernelspec": {
   "display_name": "Python 3",
   "language": "python",
   "name": "python3"
  },
  "language_info": {
   "codemirror_mode": {
    "name": "ipython",
    "version": 2
   },
   "file_extension": ".py",
   "mimetype": "text/x-python",
   "name": "python",
   "nbconvert_exporter": "python",
   "pygments_lexer": "ipython2",
   "version": "2.7.6"
  }
 },
 "nbformat": 4,
 "nbformat_minor": 0
}
